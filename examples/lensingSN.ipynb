{
 "cells": [
  {
   "cell_type": "code",
   "execution_count": 1,
   "metadata": {},
   "outputs": [],
   "source": [
    "%matplotlib inline\n",
    "import numpy as np\n",
    "import pylab as pl"
   ]
  },
  {
   "cell_type": "code",
   "execution_count": 2,
   "metadata": {},
   "outputs": [],
   "source": [
    "import seaborn as sns\n",
    "sns.set_style('whitegrid')\n",
    "sns.set_context('talk')"
   ]
  },
  {
   "cell_type": "code",
   "execution_count": 3,
   "metadata": {},
   "outputs": [],
   "source": [
    "nnn = 512\n",
    "bsz = 5.0 # degree\n",
    "dsx = bsz/nnn\n",
    "bsz_arc = bsz*3600. # in the units of Einstein Radius\n",
    "dsx_arc = dsx*3600.\n",
    "pad = 6 "
   ]
  },
  {
   "cell_type": "code",
   "execution_count": 4,
   "metadata": {},
   "outputs": [],
   "source": [
    "import os"
   ]
  },
  {
   "cell_type": "code",
   "execution_count": 5,
   "metadata": {},
   "outputs": [
    {
     "ename": "SyntaxError",
     "evalue": "invalid syntax (<ipython-input-5-56cfcc6f028a>, line 8)",
     "output_type": "error",
     "traceback": [
      "\u001b[0;36m  File \u001b[0;32m\"<ipython-input-5-56cfcc6f028a>\"\u001b[0;36m, line \u001b[0;32m8\u001b[0m\n\u001b[0;31m    if maps ==\u001b[0m\n\u001b[0m               ^\u001b[0m\n\u001b[0;31mSyntaxError\u001b[0m\u001b[0;31m:\u001b[0m invalid syntax\n"
     ]
    }
   ],
   "source": [
    "class Magnification(object):\n",
    "    def __init__(self, \n",
    "                 data_dir='./new_test/'):\n",
    "        self.data_dir = data_dir\n",
    "    def fname(self, maps):\n",
    "        \"\"\"\n",
    "        \"\"\"\n",
    "        if maps == \n",
    "        fname = \n",
    "        os.path.join(+name_base+\"_af1.bin\""
   ]
  },
  {
   "cell_type": "code",
   "execution_count": 8,
   "metadata": {},
   "outputs": [],
   "source": [
    "\n",
    "\n",
    "def main(name_base):\n",
    "    pl.figure()\n",
    "    \n",
    "    nbins = 100\n",
    "    nrange = (0.9, 1.1)\n",
    "    if name_base == \"373_0.317080\":\n",
    "        nbins = 100\n",
    "        nrange = (0.98, 1.05)\n",
    "    if name_base == \"247_0.976569\":\n",
    "        nbins = 100\n",
    "        nrange = (0.925, 1.2)\n",
    "\n",
    "    #-------------------------\n",
    "    # non-ray-traced maps\n",
    "    #\n",
    "    \n",
    "    al1_map = np.fromfile(\"./new_test/\"+name_base+\"_af1.bin\", dtype=\"float32\").reshape((nnn, nnn))[6:-6, 6:-6]\n",
    "    al2_map = np.fromfile(\"./new_test/\"+name_base+\"_af2.bin\", dtype=\"float32\").reshape((nnn, nnn))[6:-6, 6:-6]\n",
    "    kpa_map = np.fromfile(\"./new_test/\"+name_base+\"_kf0.bin\", dtype=\"float32\").reshape((nnn, nnn))[6:-6, 6:-6]\n",
    "    sh1_map = np.fromfile(\"./new_test/\"+name_base+\"_sf1.bin\", dtype=\"float32\").reshape((nnn, nnn))[6:-6, 6:-6]\n",
    "    sh2_map = np.fromfile(\"./new_test/\"+name_base+\"_sf2.bin\", dtype=\"float32\").reshape((nnn, nnn))[6:-6, 6:-6]\n",
    "    #-----------------------------\n",
    "    al11, al12 = np.gradient(al1_map, dsx_arc)\n",
    "    al21, al22 = np.gradient(al2_map, dsx_arc)\n",
    "    mua_rcl = 1.0/(al11*al22-(al11+al22)-al12*al21+1.0)\n",
    "    \n",
    "    n, bins, patches = pl.hist(np.ravel(mua_rcl), nbins, range=nrange, density=True, facecolor='g', alpha=0.2)\n",
    "    #-------------------------\n",
    "    # interpolated\n",
    "    #\n",
    "    \n",
    "    xr1 = np.fromfile(\"./new_test/\" + nbase + \"_xr1.bin\", dtype=\"float32\")\n",
    "    xr2 = np.fromfile(\"./new_test/\" + nbase + \"_xr2.bin\", dtype=\"float32\")\n",
    "\n",
    "    x_ll = -bsz_arc/2.0+0.5*dsx_arc + pad*dsx_arc\n",
    "    x_ul =  bsz_arc/2.0-0.5*dsx_arc - pad*dsx_arc\n",
    "    y_ll = -bsz_arc/2.0+0.5*dsx_arc + pad*dsx_arc\n",
    "    y_ul =  bsz_arc/2.0-0.5*dsx_arc - pad*dsx_arc\n",
    "\n",
    "    idx1 = xr1 > x_ll\n",
    "    idx2 = xr1 <=x_ul\n",
    "    idx3 = xr2 > y_ll\n",
    "    idx4 = xr2 <=x_ul\n",
    "\n",
    "    idx = idx1&idx2&idx3&idx4\n",
    "\n",
    "    mua_frt = np.fromfile(\"./new_test/\" + name_base + \"_mra.bin\", dtype=\"float32\")\n",
    "    mua_frt_cln = mua_frt[idx]\n",
    "    \n",
    "    n, bins, patches = pl.hist(mua_frt_cln, nbins, range=nrange, density=True, facecolor='r', alpha=0.2)\n",
    "    \n",
    "    #-------------------------\n",
    "    # Fully ray-traced \n",
    "    #\n",
    "    \n",
    "    xr1_frt = np.fromfile(\"ray_traced/\" + name_base + \"_xr1.bin\", dtype=\"float32\")\n",
    "    xr2_frt = np.fromfile(\"ray_traced/\" + name_base + \"_xr2.bin\", dtype=\"float32\")\n",
    "    mua_frt = np.fromfile(\"ray_traced/\" + name_base + \"_mra.bin\", dtype=\"float32\")\n",
    "\n",
    "    x_ll = -bsz_arc/2.0+0.5*dsx_arc + pad*dsx_arc\n",
    "    x_ul =  bsz_arc/2.0-0.5*dsx_arc - pad*dsx_arc\n",
    "    y_ll = -bsz_arc/2.0+0.5*dsx_arc + pad*dsx_arc\n",
    "    y_ul =  bsz_arc/2.0-0.5*dsx_arc - pad*dsx_arc\n",
    "\n",
    "    idx1 = xr1_frt > x_ll\n",
    "    idx2 = xr1_frt <=x_ul\n",
    "    idx3 = xr2_frt > y_ll\n",
    "    idx4 = xr2_frt <=x_ul\n",
    "\n",
    "    idx = idx1&idx2&idx3&idx4\n",
    "\n",
    "    mua_frt = np.fromfile(\"./new_test/\" + name_base + \"_mra.bin\", dtype=\"float32\")\n",
    "    mua_frt_cln = mua_frt[idx]\n",
    "\n",
    "    n, bins, patches = pl.hist(mua_frt_cln, nbins, range=nrange, density=True, facecolor='b', alpha=0.2)\n",
    "\n",
    "    return mua_frt_cln"
   ]
  },
  {
   "cell_type": "code",
   "execution_count": 11,
   "metadata": {},
   "outputs": [],
   "source": [
    "import matplotlib.pyplot as plt"
   ]
  },
  {
   "cell_type": "code",
   "execution_count": 12,
   "metadata": {},
   "outputs": [
    {
     "data": {
      "image/png": "[encoded data removed]",
      "text/plain": [
       "<Figure size 432x288 with 1 Axes>"
      ]
     },
     "metadata": {},
     "output_type": "display_data"
    }
   ],
   "source": [
    "#-----------------\n",
    "# zs = 0.31, redshift of sources\n",
    "#\n",
    "nbase = \"373_0.317080\"\n",
    "mu_p3 = main(nbase)\n",
    "plt.savefig('mu_z_0p3.pdf')"
   ]
  },
  {
   "cell_type": "code",
   "execution_count": 13,
   "metadata": {
    "scrolled": false
   },
   "outputs": [
    {
     "data": {
      "image/png": "[encoded data removed]",
      "text/plain": [
       "<Figure size 432x288 with 1 Axes>"
      ]
     },
     "metadata": {},
     "output_type": "display_data"
    }
   ],
   "source": [
    "#-----------------\n",
    "# zs = 0.98, redshift of sources\n",
    "#\n",
    "\n",
    "nbase = \"247_0.976569\"\n",
    "mu_1 = main(nbase)\n",
    "plt.savefig('z_1.pdf')"
   ]
  },
  {
   "cell_type": "code",
   "execution_count": 25,
   "metadata": {},
   "outputs": [
    {
     "name": "stderr",
     "output_type": "stream",
     "text": [
      "/Users/rbiswas/soft/mypython3/lib/python3.6/site-packages/matplotlib/axes/_axes.py:6462: UserWarning: The 'normed' kwarg is deprecated, and has been replaced by the 'density' kwarg.\n",
      "  warnings.warn(\"The 'normed' kwarg is deprecated, and has been \"\n",
      "/Users/rbiswas/soft/mypython3/lib/python3.6/site-packages/matplotlib/axes/_axes.py:6462: UserWarning: The 'normed' kwarg is deprecated, and has been replaced by the 'density' kwarg.\n",
      "  warnings.warn(\"The 'normed' kwarg is deprecated, and has been \"\n"
     ]
    },
    {
     "data": {
      "text/plain": [
       "(0.85, 1.15)"
      ]
     },
     "execution_count": 25,
     "metadata": {},
     "output_type": "execute_result"
    },
    {
     "data": {
      "image/png": "[encoded data removed]",
      "text/plain": [
       "<Figure size 432x288 with 2 Axes>"
      ]
     },
     "metadata": {},
     "output_type": "display_data"
    }
   ],
   "source": [
    "fig, ax = pl.subplots(1, 2)\n",
    "sns.distplot(mu_1, hist=True, ax=ax[0], label='z=1.0')\n",
    "sns.distplot(mu_p3, hist=True, ax=ax[0], label='z=0.3')\n",
    "ax[0].set_ylabel(r'$P(\\Delta m)$')\n",
    "ax[0].set_xlabel(r'$\\Delta m$')\n",
    "ax[1].hist(mu_1, label='z=1.0', histtype='step', alpha=1, cumulative=1,\n",
    "           bins=np.arange(-0.5, 0.5, 0.05), lw=2, color='k')\n",
    "ax[1].hist(mu_p3, label='z=0.3', histtype='step', alpha=1, cumulative=1,\n",
    "           bins=np.arange(-0.5, 0.5, 0.03), lw=2, color='r')\n",
    "\n",
    "ax[0].set_xlim(1-0.15, 1+0.15)        \n",
    "#ax[1].set_xlim(-0.15, 0.15)        "
   ]
  },
  {
   "cell_type": "code",
   "execution_count": 21,
   "metadata": {},
   "outputs": [
    {
     "name": "stderr",
     "output_type": "stream",
     "text": [
      "/Users/rbiswas/soft/mypython3/lib/python3.6/site-packages/matplotlib/axes/_axes.py:6462: UserWarning: The 'normed' kwarg is deprecated, and has been replaced by the 'density' kwarg.\n",
      "  warnings.warn(\"The 'normed' kwarg is deprecated, and has been \"\n",
      "/Users/rbiswas/soft/mypython3/lib/python3.6/site-packages/matplotlib/axes/_axes.py:6462: UserWarning: The 'normed' kwarg is deprecated, and has been replaced by the 'density' kwarg.\n",
      "  warnings.warn(\"The 'normed' kwarg is deprecated, and has been \"\n"
     ]
    },
    {
     "data": {
      "text/plain": [
       "(-0.15, 0.15)"
      ]
     },
     "execution_count": 21,
     "metadata": {},
     "output_type": "execute_result"
    },
    {
     "data": {
      "image/png": "[encoded data removed]",
      "text/plain": [
       "<Figure size 432x288 with 2 Axes>"
      ]
     },
     "metadata": {},
     "output_type": "display_data"
    }
   ],
   "source": [
    "fig, ax = pl.subplots(1, 2)\n",
    "sns.distplot(-2.5*np.log10(mu_1), hist=True, ax=ax[0], label='z=1.0')\n",
    "sns.distplot(-2.5 * np.log10(mu_p3), hist=True, ax=ax[0], label='z=0.3')\n",
    "ax[0].set_ylabel(r'$P(\\Delta m)$')\n",
    "ax[0].set_xlabel(r'$\\Delta m$')\n",
    "ax[1].hist(-2.5*np.log10(mu_1), label='z=1.0', histtype='step', alpha=1, cumulative=1,\n",
    "           bins=np.arange(-0.5, 0.5, 0.05), lw=2, color='k')\n",
    "ax[1].hist(-2.5*np.log10(mu_p3), label='z=0.3', histtype='step', alpha=1, cumulative=1,\n",
    "           bins=np.arange(-0.5, 0.5, 0.03), lw=2, color='r')\n",
    "\n",
    "ax[0].set_xlim(-0.15, 0.15)        \n",
    "ax[1].set_xlim(-0.15, 0.15)        "
   ]
  },
  {
   "cell_type": "code",
   "execution_count": 147,
   "metadata": {},
   "outputs": [],
   "source": [
    "pdf, edges = np.histogram(-2.5*np.log10(mu_1), bins=np.arange(-1.5, 1.5, 0.05), density=True)"
   ]
  },
  {
   "cell_type": "code",
   "execution_count": 148,
   "metadata": {},
   "outputs": [
    {
     "data": {
      "text/plain": [
       "(59, 60)"
      ]
     },
     "execution_count": 148,
     "metadata": {},
     "output_type": "execute_result"
    }
   ],
   "source": [
    "len(pdf), len(edges)"
   ]
  },
  {
   "cell_type": "code",
   "execution_count": 155,
   "metadata": {},
   "outputs": [],
   "source": [
    "cdf = np.array(list(pdf[:i].sum() for i in range(pdf.size)))* (edges[1]-edges[0])"
   ]
  },
  {
   "cell_type": "code",
   "execution_count": 154,
   "metadata": {},
   "outputs": [
    {
     "data": {
      "text/plain": [
       "[<matplotlib.lines.Line2D at 0x1a21ce6b38>]"
      ]
     },
     "execution_count": 154,
     "metadata": {},
     "output_type": "execute_result"
    },
    {
     "data": {
      "image/png": "[encoded data removed]",
      "text/plain": [
       "<Figure size 432x288 with 1 Axes>"
      ]
     },
     "metadata": {},
     "output_type": "display_data"
    }
   ],
   "source": [
    "pl.plot((edges[:-1] + edges[1:])/2., pdf)\n",
    "pl.plot((edges[:-1] + edges[1:])/2., cdf)"
   ]
  },
  {
   "cell_type": "code",
   "execution_count": null,
   "metadata": {},
   "outputs": [],
   "source": [
    "    "
   ]
  },
  {
   "cell_type": "code",
   "execution_count": 34,
   "metadata": {},
   "outputs": [
    {
     "data": {
      "text/plain": [
       "1789979"
      ]
     },
     "execution_count": 34,
     "metadata": {},
     "output_type": "execute_result"
    }
   ],
   "source": [
    "mu_1.size"
   ]
  },
  {
   "cell_type": "code",
   "execution_count": 48,
   "metadata": {},
   "outputs": [],
   "source": [
    "sample_p3_10 = np.random.choice(mu_p3, size=10, replace=True).\n",
    "sample_p3_100 = np.random.choice(mu_p3, size=100, replace=True)\n",
    "sample_p3_1000 = np.random.choice(mu_p3, size=1000, replace=True)\n",
    "sample_p3_10000 = np.random.choice(mu_p3, size=10000, replace=True)\n",
    "sample_p3_100000 = np.random.choice(mu_p3, size=100000, replace=True)"
   ]
  },
  {
   "cell_type": "code",
   "execution_count": 58,
   "metadata": {},
   "outputs": [],
   "source": [
    "#sample_1_10 = np.random.choice(mu_1, size=10, replace=True)\n",
    "#sample_1_100 = np.random.choice(mu_1, size=100, replace=True)\n",
    "#sample_1_1000 = np.random.choice(mu_1, size=1000, replace=True)\n",
    "#sample_1_10000 = np.random.choice(mu_1, size=10000, replace=True)\n",
    "sample_1_100000 = np.random.choice(mu_1, size=100000, replace=False)"
   ]
  },
  {
   "cell_type": "code",
   "execution_count": 72,
   "metadata": {},
   "outputs": [
    {
     "data": {
      "text/plain": [
       "100"
      ]
     },
     "execution_count": 72,
     "metadata": {},
     "output_type": "execute_result"
    }
   ],
   "source": [
    "sample_1_100000.reshape((1000, 100)).mean(axis=0).size"
   ]
  },
  {
   "cell_type": "code",
   "execution_count": 76,
   "metadata": {},
   "outputs": [],
   "source": [
    "def samples(sample, total, N):\n",
    "    sample = np.random.choice(sample, size=total)\n",
    "    numrows = np.int(total / N)\n",
    "    return sample.reshape((numrows, N)).mean(axis=0)"
   ]
  },
  {
   "cell_type": "code",
   "execution_count": 110,
   "metadata": {},
   "outputs": [],
   "source": [
    "vals = np.hstack(list(np.array((10, 20,  50, 100))*y for y in (1, 10, 100, 1000)))"
   ]
  },
  {
   "cell_type": "code",
   "execution_count": 111,
   "metadata": {},
   "outputs": [
    {
     "data": {
      "text/plain": [
       "array([    10,     20,     50,    100,    100,    200,    500,   1000,\n",
       "         1000,   2000,   5000,  10000,  10000,  20000,  50000, 100000])"
      ]
     },
     "execution_count": 111,
     "metadata": {},
     "output_type": "execute_result"
    }
   ],
   "source": [
    "vals"
   ]
  },
  {
   "cell_type": "code",
   "execution_count": 127,
   "metadata": {},
   "outputs": [
    {
     "data": {
      "text/plain": [
       "1000"
      ]
     },
     "execution_count": 127,
     "metadata": {},
     "output_type": "execute_result"
    }
   ],
   "source": [
    "samples(mu_1, 100000, 1000).size"
   ]
  },
  {
   "cell_type": "code",
   "execution_count": 134,
   "metadata": {},
   "outputs": [],
   "source": [
    "mu_std_1  = np.array(list(samples(mu_1, 100000, x).std() for x in vals))"
   ]
  },
  {
   "cell_type": "code",
   "execution_count": 135,
   "metadata": {},
   "outputs": [
    {
     "data": {
      "text/plain": [
       "array([ 0.00039547,  0.00043305,  0.00056515,  0.00090407,  0.00087575,\n",
       "        0.00134426,  0.00198496,  0.00281952,  0.00295976,  0.00406931,\n",
       "        0.00621955,  0.00923903,  0.00899495,  0.01293534,  0.02029727,\n",
       "        0.02820293], dtype=float32)"
      ]
     },
     "execution_count": 135,
     "metadata": {},
     "output_type": "execute_result"
    }
   ],
   "source": [
    "mu_std_1"
   ]
  },
  {
   "cell_type": "code",
   "execution_count": 136,
   "metadata": {},
   "outputs": [
    {
     "data": {
      "text/plain": [
       "[<matplotlib.lines.Line2D at 0x1a207d9198>]"
      ]
     },
     "execution_count": 136,
     "metadata": {},
     "output_type": "execute_result"
    },
    {
     "data": {
      "image/png": "[encoded data removed]",
      "text/plain": [
       "<Figure size 432x288 with 1 Axes>"
      ]
     },
     "metadata": {},
     "output_type": "display_data"
    }
   ],
   "source": [
    "pl.plot(vals, mu_, 'o')"
   ]
  },
  {
   "cell_type": "code",
   "execution_count": null,
   "metadata": {},
   "outputs": [],
   "source": []
  },
  {
   "cell_type": "code",
   "execution_count": 54,
   "metadata": {},
   "outputs": [],
   "source": [
    "sigma_p3 = np.array(list(np.std(x) for x in (sample_p3_10, sample_p3_100, sample_p3_1000, sample_p3_10000,\n",
    "                                  sample_p3_100000)))"
   ]
  },
  {
   "cell_type": "code",
   "execution_count": 55,
   "metadata": {},
   "outputs": [],
   "source": [
    "sigma_1p0 = np.array(list(np.std(x) for x in (sample_1_10, sample_1_100, sample_1_1000, sample_1_10000,\n",
    "                                  sample_1_100000)))"
   ]
  },
  {
   "cell_type": "code",
   "execution_count": 57,
   "metadata": {},
   "outputs": [
    {
     "data": {
      "text/plain": [
       "array([ 0.91117537,  0.36870229,  0.29663244,  0.30424058,  0.29905382], dtype=float32)"
      ]
     },
     "execution_count": 57,
     "metadata": {},
     "output_type": "execute_result"
    }
   ],
   "source": [
    "sigma_p3 / sigma_1p0"
   ]
  },
  {
   "cell_type": "code",
   "execution_count": 47,
   "metadata": {},
   "outputs": [
    {
     "data": {
      "text/plain": [
       "array([ 0.99369699,  1.00255358,  1.00098848,  1.00028455,  1.00094938], dtype=float32)"
      ]
     },
     "execution_count": 47,
     "metadata": {},
     "output_type": "execute_result"
    }
   ],
   "source": [
    "np.array(list(np.mean(x) for x in (sample_1_10, sample_1_100, sample_1_1000, sample_1_10000,\n",
    "                                  sample_1_100000)))"
   ]
  },
  {
   "cell_type": "code",
   "execution_count": null,
   "metadata": {},
   "outputs": [],
   "source": [
    "np.array(list(np.std(x) for x in (sample_1_10, sample_1_100, sample_1_1000, sample_1_10000, sample_1_100000)))"
   ]
  },
  {
   "cell_type": "code",
   "execution_count": 13,
   "metadata": {},
   "outputs": [
    {
     "data": {
      "text/plain": [
       "-0.010803434456606446"
      ]
     },
     "execution_count": 13,
     "metadata": {},
     "output_type": "execute_result"
    }
   ],
   "source": [
    "-2.5 * np.log10(1.01)"
   ]
  },
  {
   "cell_type": "code",
   "execution_count": null,
   "metadata": {},
   "outputs": [],
   "source": [
    "ax[0].set_xlim(-0.15, 0.15)        "
   ]
  },
  {
   "cell_type": "code",
   "execution_count": 140,
   "metadata": {},
   "outputs": [
    {
     "data": {
      "image/png": "[encoded data removed]",
      "text/plain": [
       "<Figure size 432x288 with 1 Axes>"
      ]
     },
     "metadata": {},
     "output_type": "display_data"
    }
   ],
   "source": [
    "num, edges, patches = pl.hist(mu_1, cumulative=1, bins=np.arange(0., 2., 0.01))\n"
   ]
  },
  {
   "cell_type": "code",
   "execution_count": 141,
   "metadata": {},
   "outputs": [
    {
     "data": {
      "text/plain": [
       "array([  0.00000000e+00,   0.00000000e+00,   0.00000000e+00,\n",
       "         0.00000000e+00,   0.00000000e+00,   0.00000000e+00,\n",
       "         0.00000000e+00,   0.00000000e+00,   0.00000000e+00,\n",
       "         0.00000000e+00,   0.00000000e+00,   0.00000000e+00,\n",
       "         0.00000000e+00,   0.00000000e+00,   0.00000000e+00,\n",
       "         0.00000000e+00,   0.00000000e+00,   0.00000000e+00,\n",
       "         0.00000000e+00,   0.00000000e+00,   0.00000000e+00,\n",
       "         0.00000000e+00,   0.00000000e+00,   0.00000000e+00,\n",
       "         0.00000000e+00,   0.00000000e+00,   0.00000000e+00,\n",
       "         0.00000000e+00,   0.00000000e+00,   0.00000000e+00,\n",
       "         0.00000000e+00,   0.00000000e+00,   0.00000000e+00,\n",
       "         0.00000000e+00,   0.00000000e+00,   0.00000000e+00,\n",
       "         0.00000000e+00,   0.00000000e+00,   0.00000000e+00,\n",
       "         0.00000000e+00,   0.00000000e+00,   0.00000000e+00,\n",
       "         0.00000000e+00,   0.00000000e+00,   0.00000000e+00,\n",
       "         0.00000000e+00,   0.00000000e+00,   0.00000000e+00,\n",
       "         0.00000000e+00,   0.00000000e+00,   0.00000000e+00,\n",
       "         0.00000000e+00,   0.00000000e+00,   0.00000000e+00,\n",
       "         0.00000000e+00,   0.00000000e+00,   0.00000000e+00,\n",
       "         0.00000000e+00,   0.00000000e+00,   0.00000000e+00,\n",
       "         0.00000000e+00,   0.00000000e+00,   0.00000000e+00,\n",
       "         0.00000000e+00,   0.00000000e+00,   0.00000000e+00,\n",
       "         0.00000000e+00,   0.00000000e+00,   0.00000000e+00,\n",
       "         0.00000000e+00,   0.00000000e+00,   0.00000000e+00,\n",
       "         0.00000000e+00,   0.00000000e+00,   0.00000000e+00,\n",
       "         0.00000000e+00,   0.00000000e+00,   0.00000000e+00,\n",
       "         0.00000000e+00,   0.00000000e+00,   0.00000000e+00,\n",
       "         0.00000000e+00,   0.00000000e+00,   0.00000000e+00,\n",
       "         0.00000000e+00,   0.00000000e+00,   0.00000000e+00,\n",
       "         0.00000000e+00,   0.00000000e+00,   0.00000000e+00,\n",
       "         0.00000000e+00,   0.00000000e+00,   0.00000000e+00,\n",
       "         0.00000000e+00,   7.80000000e+01,   1.17100000e+04,\n",
       "         1.17663000e+05,   3.81476000e+05,   7.25096000e+05,\n",
       "         1.04188200e+06,   1.28948900e+06,   1.45909200e+06,\n",
       "         1.57275300e+06,   1.64630100e+06,   1.69286000e+06,\n",
       "         1.72326500e+06,   1.74386000e+06,   1.75720000e+06,\n",
       "         1.76590000e+06,   1.77197000e+06,   1.77614100e+06,\n",
       "         1.77946000e+06,   1.78159600e+06,   1.78335700e+06,\n",
       "         1.78475900e+06,   1.78577500e+06,   1.78648300e+06,\n",
       "         1.78708300e+06,   1.78753700e+06,   1.78788700e+06,\n",
       "         1.78827000e+06,   1.78857500e+06,   1.78885000e+06,\n",
       "         1.78914000e+06,   1.78934400e+06,   1.78950700e+06,\n",
       "         1.78958400e+06,   1.78962400e+06,   1.78965700e+06,\n",
       "         1.78969200e+06,   1.78972800e+06,   1.78977700e+06,\n",
       "         1.78980600e+06,   1.78981900e+06,   1.78982700e+06,\n",
       "         1.78983400e+06,   1.78986700e+06,   1.78988300e+06,\n",
       "         1.78989000e+06,   1.78989800e+06,   1.78990300e+06,\n",
       "         1.78990400e+06,   1.78990600e+06,   1.78990700e+06,\n",
       "         1.78991400e+06,   1.78991500e+06,   1.78991600e+06,\n",
       "         1.78992400e+06,   1.78993200e+06,   1.78993500e+06,\n",
       "         1.78993500e+06,   1.78993800e+06,   1.78993900e+06,\n",
       "         1.78994500e+06,   1.78995100e+06,   1.78995200e+06,\n",
       "         1.78995500e+06,   1.78995600e+06,   1.78996100e+06,\n",
       "         1.78996300e+06,   1.78996500e+06,   1.78996600e+06,\n",
       "         1.78996900e+06,   1.78997400e+06,   1.78997800e+06,\n",
       "         1.78997900e+06,   1.78997900e+06,   1.78997900e+06,\n",
       "         1.78997900e+06,   1.78997900e+06,   1.78997900e+06,\n",
       "         1.78997900e+06,   1.78997900e+06,   1.78997900e+06,\n",
       "         1.78997900e+06,   1.78997900e+06,   1.78997900e+06,\n",
       "         1.78997900e+06,   1.78997900e+06,   1.78997900e+06,\n",
       "         1.78997900e+06,   1.78997900e+06,   1.78997900e+06,\n",
       "         1.78997900e+06,   1.78997900e+06,   1.78997900e+06,\n",
       "         1.78997900e+06,   1.78997900e+06,   1.78997900e+06,\n",
       "         1.78997900e+06,   1.78997900e+06,   1.78997900e+06,\n",
       "         1.78997900e+06,   1.78997900e+06,   1.78997900e+06,\n",
       "         1.78997900e+06,   1.78997900e+06,   1.78997900e+06,\n",
       "         1.78997900e+06])"
      ]
     },
     "execution_count": 141,
     "metadata": {},
     "output_type": "execute_result"
    }
   ],
   "source": [
    "num"
   ]
  },
  {
   "cell_type": "code",
   "execution_count": null,
   "metadata": {},
   "outputs": [],
   "source": []
  }
 ],
 "metadata": {
  "kernelspec": {
   "display_name": "Python 3",
   "language": "python",
   "name": "python3"
  },
  "language_info": {
   "codemirror_mode": {
    "name": "ipython",
    "version": 3
   },
   "file_extension": ".py",
   "mimetype": "text/x-python",
   "name": "python",
   "nbconvert_exporter": "python",
   "pygments_lexer": "ipython3",
   "version": "3.6.5"
  }
 },
 "nbformat": 4,
 "nbformat_minor": 2
}
